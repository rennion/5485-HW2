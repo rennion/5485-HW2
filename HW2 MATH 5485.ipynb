{
 "cells": [
  {
   "cell_type": "code",
   "execution_count": 35,
   "metadata": {},
   "outputs": [],
   "source": [
    "import math"
   ]
  },
  {
   "cell_type": "code",
   "execution_count": 36,
   "metadata": {},
   "outputs": [],
   "source": [
    "#2."
   ]
  },
  {
   "cell_type": "code",
   "execution_count": 37,
   "metadata": {},
   "outputs": [],
   "source": [
    "def f(x):\n",
    "    x=float(x)\n",
    "    return x**3+x-4\n",
    "def bisection(a,b,TOL,maxN):\n",
    "    i=1\n",
    "    FA=f(a)\n",
    "    while i <= maxN:\n",
    "        p=0.5*(a+b)\n",
    "        FP=f(p)\n",
    "        if FP == 0 or (b-a)/2 < TOL:\n",
    "            return 'root to function is '+str(p)+' after '+str(i)+' iterations'\n",
    "        else:\n",
    "            if FP*FA > 0:\n",
    "                a=p\n",
    "                FA=FP\n",
    "            else:\n",
    "                b=p\n",
    "    return 'method failed after '+str(maxN)+' iterations'"
   ]
  },
  {
   "cell_type": "code",
   "execution_count": 38,
   "metadata": {},
   "outputs": [
    {
     "data": {
      "text/plain": [
       "'root to function is 1.378793716430664 after 1 iterations'"
      ]
     },
     "execution_count": 38,
     "metadata": {},
     "output_type": "execute_result"
    }
   ],
   "source": [
    "bisection(1,4,10**-5,100)"
   ]
  },
  {
   "cell_type": "code",
   "execution_count": 39,
   "metadata": {},
   "outputs": [],
   "source": [
    "#5."
   ]
  },
  {
   "cell_type": "code",
   "execution_count": 40,
   "metadata": {},
   "outputs": [],
   "source": [
    "def g1(x):\n",
    "    x=float(x)\n",
    "    return 5*(x**-2) + 2"
   ]
  },
  {
   "cell_type": "code",
   "execution_count": 41,
   "metadata": {},
   "outputs": [],
   "source": [
    "def fixedpoint1(p0,TOL,maxN):\n",
    "    i=1\n",
    "    while i<=maxN:\n",
    "        p=g1(p0)\n",
    "        if abs(p-p0)<TOL:\n",
    "            return 'solution to p=g(p) found with p='+str(p)+' after '+str(i)+' iterations'\n",
    "        i+=1\n",
    "        p0=p\n",
    "    return 'method failed after ' +str(maxN)+ ' iterations'"
   ]
  },
  {
   "cell_type": "code",
   "execution_count": 42,
   "metadata": {},
   "outputs": [
    {
     "data": {
      "text/plain": [
       "'solution to p=g(p) found with p=2.6906498932822 after 17 iterations'"
      ]
     },
     "execution_count": 42,
     "metadata": {},
     "output_type": "execute_result"
    }
   ],
   "source": [
    "fixedpoint1(2.5,10**-5,100)"
   ]
  },
  {
   "cell_type": "code",
   "execution_count": 43,
   "metadata": {},
   "outputs": [],
   "source": [
    "def g2(x):\n",
    "    x=float(x)\n",
    "    return (math.exp(x)/3)**0.5"
   ]
  },
  {
   "cell_type": "code",
   "execution_count": 44,
   "metadata": {},
   "outputs": [],
   "source": [
    "def fixedpoint2(p0,TOL,maxN):\n",
    "    i=1\n",
    "    while i<=maxN:\n",
    "        p=g2(p0)\n",
    "        if abs(p-p0)<TOL:\n",
    "            return 'solution to p=g(p) found with p='+str(p)+' after '+str(i)+' iterations'\n",
    "        i+=1\n",
    "        p0=p\n",
    "    return 'method failed after ' +str(maxN)+ ' iterations'"
   ]
  },
  {
   "cell_type": "code",
   "execution_count": 45,
   "metadata": {},
   "outputs": [
    {
     "data": {
      "text/plain": [
       "'solution to p=g(p) found with p=0.9100028794220324 after 15 iterations'"
      ]
     },
     "execution_count": 45,
     "metadata": {},
     "output_type": "execute_result"
    }
   ],
   "source": [
    "fixedpoint2(0,10**-5,100)"
   ]
  },
  {
   "cell_type": "markdown",
   "metadata": {},
   "source": [
    " "
   ]
  }
 ],
 "metadata": {
  "kernelspec": {
   "display_name": "Python 3",
   "language": "python",
   "name": "python3"
  },
  "language_info": {
   "codemirror_mode": {
    "name": "ipython",
    "version": 3
   },
   "file_extension": ".py",
   "mimetype": "text/x-python",
   "name": "python",
   "nbconvert_exporter": "python",
   "pygments_lexer": "ipython3",
   "version": "3.6.5"
  }
 },
 "nbformat": 4,
 "nbformat_minor": 2
}
